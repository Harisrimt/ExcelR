{
 "cells": [
  {
   "cell_type": "code",
   "execution_count": 1,
   "id": "fc645db3",
   "metadata": {},
   "outputs": [],
   "source": [
    "import numpy as np\n",
    "import pandas as pd\n",
    "import matplotlib.pyplot as plt\n",
    "import seaborn as sns\n",
    "import statsmodels.api as sm\n",
    "import statsmodels.formula.api as smf\n",
    "import warnings\n",
    "from sklearn.metrics import mean_squared_error, r2_score"
   ]
  },
  {
   "cell_type": "code",
   "execution_count": 2,
   "id": "b5ecb394",
   "metadata": {},
   "outputs": [],
   "source": [
    "df = pd.read_csv(\"50_Startups.csv\")\n",
    "# df.head()"
   ]
  },
  {
   "cell_type": "code",
   "execution_count": null,
   "id": "be097609",
   "metadata": {
    "scrolled": true
   },
   "outputs": [],
   "source": [
    "df.isna().sum()"
   ]
  },
  {
   "cell_type": "code",
   "execution_count": null,
   "id": "350e52a9",
   "metadata": {},
   "outputs": [],
   "source": [
    "df[\"State\"].unique()"
   ]
  },
  {
   "cell_type": "code",
   "execution_count": null,
   "id": "f538dc5c",
   "metadata": {},
   "outputs": [],
   "source": [
    "warnings.filterwarnings(\"ignore\")\n",
    "plt.figure(figsize = (10,4))\n",
    "\n",
    "plt.subplot(1,3,1)\n",
    "sns.distplot(df[\"R&D Spend\"])\n",
    "\n",
    "plt.subplot(1,3,2)\n",
    "sns.distplot(df[\"Administration\"])\n",
    "\n",
    "plt.subplot(1,3,3)\n",
    "sns.distplot(df[\"Marketing Spend\"])"
   ]
  },
  {
   "cell_type": "code",
   "execution_count": null,
   "id": "acb329f8",
   "metadata": {},
   "outputs": [],
   "source": [
    "warnings.filterwarnings(\"ignore\")\n",
    "plt.figure(figsize = (10,4))\n",
    "\n",
    "plt.subplot(1,3,1)\n",
    "sns.boxplot(df[\"R&D Spend\"])\n",
    "\n",
    "plt.subplot(1,3,2)\n",
    "sns.boxplot(df[\"Administration\"])\n",
    "\n",
    "plt.subplot(1,3,3)\n",
    "sns.boxplot(df[\"Marketing Spend\"])"
   ]
  },
  {
   "cell_type": "markdown",
   "id": "9c7eff94",
   "metadata": {},
   "source": [
    "###### No outliers in the independent variables, and these variables follows normal distribution"
   ]
  },
  {
   "cell_type": "code",
   "execution_count": null,
   "id": "8b110207",
   "metadata": {},
   "outputs": [],
   "source": [
    "sns.pairplot(df)"
   ]
  },
  {
   "cell_type": "markdown",
   "id": "dd23ddfc",
   "metadata": {},
   "source": [
    "###### Not all the variables follow a linear pattern with respect to profit"
   ]
  },
  {
   "cell_type": "code",
   "execution_count": null,
   "id": "f540c85d",
   "metadata": {},
   "outputs": [],
   "source": []
  },
  {
   "cell_type": "code",
   "execution_count": null,
   "id": "6668cade",
   "metadata": {},
   "outputs": [],
   "source": [
    "df.head()"
   ]
  },
  {
   "cell_type": "code",
   "execution_count": 3,
   "id": "dd72bf9e",
   "metadata": {},
   "outputs": [
    {
     "data": {
      "text/html": [
       "<div>\n",
       "<style scoped>\n",
       "    .dataframe tbody tr th:only-of-type {\n",
       "        vertical-align: middle;\n",
       "    }\n",
       "\n",
       "    .dataframe tbody tr th {\n",
       "        vertical-align: top;\n",
       "    }\n",
       "\n",
       "    .dataframe thead th {\n",
       "        text-align: right;\n",
       "    }\n",
       "</style>\n",
       "<table border=\"1\" class=\"dataframe\">\n",
       "  <thead>\n",
       "    <tr style=\"text-align: right;\">\n",
       "      <th></th>\n",
       "      <th>R&amp;D Spend</th>\n",
       "      <th>Administration</th>\n",
       "      <th>Marketing Spend</th>\n",
       "      <th>Profit</th>\n",
       "      <th>State_Florida</th>\n",
       "      <th>State_New York</th>\n",
       "    </tr>\n",
       "  </thead>\n",
       "  <tbody>\n",
       "    <tr>\n",
       "      <th>0</th>\n",
       "      <td>165349.20</td>\n",
       "      <td>136897.80</td>\n",
       "      <td>471784.10</td>\n",
       "      <td>192261.83</td>\n",
       "      <td>0</td>\n",
       "      <td>1</td>\n",
       "    </tr>\n",
       "    <tr>\n",
       "      <th>1</th>\n",
       "      <td>162597.70</td>\n",
       "      <td>151377.59</td>\n",
       "      <td>443898.53</td>\n",
       "      <td>191792.06</td>\n",
       "      <td>0</td>\n",
       "      <td>0</td>\n",
       "    </tr>\n",
       "    <tr>\n",
       "      <th>2</th>\n",
       "      <td>153441.51</td>\n",
       "      <td>101145.55</td>\n",
       "      <td>407934.54</td>\n",
       "      <td>191050.39</td>\n",
       "      <td>1</td>\n",
       "      <td>0</td>\n",
       "    </tr>\n",
       "    <tr>\n",
       "      <th>3</th>\n",
       "      <td>144372.41</td>\n",
       "      <td>118671.85</td>\n",
       "      <td>383199.62</td>\n",
       "      <td>182901.99</td>\n",
       "      <td>0</td>\n",
       "      <td>1</td>\n",
       "    </tr>\n",
       "    <tr>\n",
       "      <th>4</th>\n",
       "      <td>142107.34</td>\n",
       "      <td>91391.77</td>\n",
       "      <td>366168.42</td>\n",
       "      <td>166187.94</td>\n",
       "      <td>1</td>\n",
       "      <td>0</td>\n",
       "    </tr>\n",
       "  </tbody>\n",
       "</table>\n",
       "</div>"
      ],
      "text/plain": [
       "   R&D Spend  Administration  Marketing Spend     Profit  State_Florida  \\\n",
       "0  165349.20       136897.80        471784.10  192261.83              0   \n",
       "1  162597.70       151377.59        443898.53  191792.06              0   \n",
       "2  153441.51       101145.55        407934.54  191050.39              1   \n",
       "3  144372.41       118671.85        383199.62  182901.99              0   \n",
       "4  142107.34        91391.77        366168.42  166187.94              1   \n",
       "\n",
       "   State_New York  \n",
       "0               1  \n",
       "1               0  \n",
       "2               0  \n",
       "3               1  \n",
       "4               0  "
      ]
     },
     "execution_count": 3,
     "metadata": {},
     "output_type": "execute_result"
    }
   ],
   "source": [
    "df_2 = pd.get_dummies(df,columns=['State'], drop_first= True)\n",
    "df_2.head()"
   ]
  },
  {
   "cell_type": "code",
   "execution_count": 4,
   "id": "a75845d9",
   "metadata": {},
   "outputs": [],
   "source": [
    "y = df_2[\"Profit\"]\n",
    "x = df_2.drop([\"Profit\"], axis = 1)"
   ]
  },
  {
   "cell_type": "code",
   "execution_count": 5,
   "id": "c1191266",
   "metadata": {},
   "outputs": [],
   "source": [
    "x = sm.add_constant(x)\n",
    "\n",
    "model = sm.OLS(y, x).fit()\n",
    "# model.summary()"
   ]
  },
  {
   "cell_type": "code",
   "execution_count": 8,
   "id": "b7fdee32",
   "metadata": {},
   "outputs": [
    {
     "data": {
      "text/html": [
       "<div>\n",
       "<style scoped>\n",
       "    .dataframe tbody tr th:only-of-type {\n",
       "        vertical-align: middle;\n",
       "    }\n",
       "\n",
       "    .dataframe tbody tr th {\n",
       "        vertical-align: top;\n",
       "    }\n",
       "\n",
       "    .dataframe thead th {\n",
       "        text-align: right;\n",
       "    }\n",
       "</style>\n",
       "<table border=\"1\" class=\"dataframe\">\n",
       "  <thead>\n",
       "    <tr style=\"text-align: right;\">\n",
       "      <th></th>\n",
       "      <th>const</th>\n",
       "      <th>R&amp;D Spend</th>\n",
       "      <th>Administration</th>\n",
       "      <th>Marketing Spend</th>\n",
       "      <th>State_Florida</th>\n",
       "      <th>State_New York</th>\n",
       "    </tr>\n",
       "  </thead>\n",
       "  <tbody>\n",
       "    <tr>\n",
       "      <th>0</th>\n",
       "      <td>1.0</td>\n",
       "      <td>165349.2</td>\n",
       "      <td>136897.80</td>\n",
       "      <td>471784.10</td>\n",
       "      <td>0</td>\n",
       "      <td>1</td>\n",
       "    </tr>\n",
       "    <tr>\n",
       "      <th>1</th>\n",
       "      <td>1.0</td>\n",
       "      <td>162597.7</td>\n",
       "      <td>151377.59</td>\n",
       "      <td>443898.53</td>\n",
       "      <td>0</td>\n",
       "      <td>0</td>\n",
       "    </tr>\n",
       "  </tbody>\n",
       "</table>\n",
       "</div>"
      ],
      "text/plain": [
       "   const  R&D Spend  Administration  Marketing Spend  State_Florida  \\\n",
       "0    1.0   165349.2       136897.80        471784.10              0   \n",
       "1    1.0   162597.7       151377.59        443898.53              0   \n",
       "\n",
       "   State_New York  \n",
       "0               1  \n",
       "1               0  "
      ]
     },
     "execution_count": 8,
     "metadata": {},
     "output_type": "execute_result"
    }
   ],
   "source": [
    "x.head(2)"
   ]
  },
  {
   "cell_type": "code",
   "execution_count": 6,
   "id": "c0fc13d9",
   "metadata": {},
   "outputs": [
    {
     "data": {
      "text/plain": [
       "0.9507524843355148"
      ]
     },
     "execution_count": 6,
     "metadata": {},
     "output_type": "execute_result"
    }
   ],
   "source": [
    "x_const = sm.add_constant(x)\n",
    "y_pred = model.predict(x_const)\n",
    "r_2 = r2_score(y,y_pred)\n",
    "r_2"
   ]
  },
  {
   "cell_type": "code",
   "execution_count": 10,
   "id": "6ac68635",
   "metadata": {},
   "outputs": [
    {
     "data": {
      "text/html": [
       "<div>\n",
       "<style scoped>\n",
       "    .dataframe tbody tr th:only-of-type {\n",
       "        vertical-align: middle;\n",
       "    }\n",
       "\n",
       "    .dataframe tbody tr th {\n",
       "        vertical-align: top;\n",
       "    }\n",
       "\n",
       "    .dataframe thead th {\n",
       "        text-align: right;\n",
       "    }\n",
       "</style>\n",
       "<table border=\"1\" class=\"dataframe\">\n",
       "  <thead>\n",
       "    <tr style=\"text-align: right;\">\n",
       "      <th></th>\n",
       "      <th>const</th>\n",
       "      <th>R&amp;D Spend</th>\n",
       "      <th>Administration</th>\n",
       "      <th>Marketing Spend</th>\n",
       "      <th>State_Florida</th>\n",
       "      <th>State_New York</th>\n",
       "    </tr>\n",
       "  </thead>\n",
       "  <tbody>\n",
       "    <tr>\n",
       "      <th>0</th>\n",
       "      <td>1.0</td>\n",
       "      <td>165349.2</td>\n",
       "      <td>136897.80</td>\n",
       "      <td>471784.10</td>\n",
       "      <td>0</td>\n",
       "      <td>1</td>\n",
       "    </tr>\n",
       "    <tr>\n",
       "      <th>1</th>\n",
       "      <td>1.0</td>\n",
       "      <td>162597.7</td>\n",
       "      <td>151377.59</td>\n",
       "      <td>443898.53</td>\n",
       "      <td>0</td>\n",
       "      <td>0</td>\n",
       "    </tr>\n",
       "  </tbody>\n",
       "</table>\n",
       "</div>"
      ],
      "text/plain": [
       "   const  R&D Spend  Administration  Marketing Spend  State_Florida  \\\n",
       "0    1.0   165349.2       136897.80        471784.10              0   \n",
       "1    1.0   162597.7       151377.59        443898.53              0   \n",
       "\n",
       "   State_New York  \n",
       "0               1  \n",
       "1               0  "
      ]
     },
     "execution_count": 10,
     "metadata": {},
     "output_type": "execute_result"
    }
   ],
   "source": [
    "x_const.head(2)"
   ]
  },
  {
   "cell_type": "code",
   "execution_count": 15,
   "id": "1ecde9f2",
   "metadata": {},
   "outputs": [
    {
     "data": {
      "text/html": [
       "<div>\n",
       "<style scoped>\n",
       "    .dataframe tbody tr th:only-of-type {\n",
       "        vertical-align: middle;\n",
       "    }\n",
       "\n",
       "    .dataframe tbody tr th {\n",
       "        vertical-align: top;\n",
       "    }\n",
       "\n",
       "    .dataframe thead th {\n",
       "        text-align: right;\n",
       "    }\n",
       "</style>\n",
       "<table border=\"1\" class=\"dataframe\">\n",
       "  <thead>\n",
       "    <tr style=\"text-align: right;\">\n",
       "      <th></th>\n",
       "      <th>const</th>\n",
       "      <th>R&amp;D Spend</th>\n",
       "      <th>State_Florida</th>\n",
       "      <th>State_New York</th>\n",
       "      <th>Administration_sqrt</th>\n",
       "      <th>Marketing Spend_sqrt</th>\n",
       "    </tr>\n",
       "  </thead>\n",
       "  <tbody>\n",
       "    <tr>\n",
       "      <th>0</th>\n",
       "      <td>1.0</td>\n",
       "      <td>165349.20</td>\n",
       "      <td>0</td>\n",
       "      <td>1</td>\n",
       "      <td>369.997027</td>\n",
       "      <td>686.865416</td>\n",
       "    </tr>\n",
       "    <tr>\n",
       "      <th>1</th>\n",
       "      <td>1.0</td>\n",
       "      <td>162597.70</td>\n",
       "      <td>0</td>\n",
       "      <td>0</td>\n",
       "      <td>389.072731</td>\n",
       "      <td>666.257105</td>\n",
       "    </tr>\n",
       "    <tr>\n",
       "      <th>2</th>\n",
       "      <td>1.0</td>\n",
       "      <td>153441.51</td>\n",
       "      <td>1</td>\n",
       "      <td>0</td>\n",
       "      <td>318.033882</td>\n",
       "      <td>638.697534</td>\n",
       "    </tr>\n",
       "    <tr>\n",
       "      <th>3</th>\n",
       "      <td>1.0</td>\n",
       "      <td>144372.41</td>\n",
       "      <td>0</td>\n",
       "      <td>1</td>\n",
       "      <td>344.487808</td>\n",
       "      <td>619.031195</td>\n",
       "    </tr>\n",
       "    <tr>\n",
       "      <th>4</th>\n",
       "      <td>1.0</td>\n",
       "      <td>142107.34</td>\n",
       "      <td>1</td>\n",
       "      <td>0</td>\n",
       "      <td>302.310718</td>\n",
       "      <td>605.118517</td>\n",
       "    </tr>\n",
       "  </tbody>\n",
       "</table>\n",
       "</div>"
      ],
      "text/plain": [
       "   const  R&D Spend  State_Florida  State_New York  Administration_sqrt  \\\n",
       "0    1.0  165349.20              0               1           369.997027   \n",
       "1    1.0  162597.70              0               0           389.072731   \n",
       "2    1.0  153441.51              1               0           318.033882   \n",
       "3    1.0  144372.41              0               1           344.487808   \n",
       "4    1.0  142107.34              1               0           302.310718   \n",
       "\n",
       "   Marketing Spend_sqrt  \n",
       "0            686.865416  \n",
       "1            666.257105  \n",
       "2            638.697534  \n",
       "3            619.031195  \n",
       "4            605.118517  "
      ]
     },
     "execution_count": 15,
     "metadata": {},
     "output_type": "execute_result"
    }
   ],
   "source": [
    "x1 = x.copy()\n",
    "x1[\"Administration_sqrt\"] = np.sqrt(x[\"Administration\"])\n",
    "x1[\"Marketing Spend_sqrt\"] = np.sqrt(x[\"Marketing Spend\"])\n",
    "x1 = x1.drop([\"Administration\"], axis = 1)\n",
    "x1 = x1.drop([\"Marketing Spend\"], axis = 1)\n",
    "x1.head()\n"
   ]
  },
  {
   "cell_type": "code",
   "execution_count": 16,
   "id": "31ef58e1",
   "metadata": {},
   "outputs": [],
   "source": [
    "x1 = sm.add_constant(x1)\n",
    "\n",
    "model = sm.OLS(y, x1).fit()\n",
    "# model.summary()"
   ]
  },
  {
   "cell_type": "code",
   "execution_count": 18,
   "id": "fff63d05",
   "metadata": {},
   "outputs": [
    {
     "data": {
      "text/plain": [
       "0.9505430446185115"
      ]
     },
     "execution_count": 18,
     "metadata": {},
     "output_type": "execute_result"
    }
   ],
   "source": [
    "x_const1 = sm.add_constant(x1)\n",
    "y_pred1 = model.predict(x_const1)\n",
    "r_2_sqrt = r2_score(y,y_pred1)\n",
    "r_2_sqrt"
   ]
  },
  {
   "cell_type": "code",
   "execution_count": 15,
   "id": "5581e206",
   "metadata": {},
   "outputs": [
    {
     "data": {
      "text/html": [
       "<div>\n",
       "<style scoped>\n",
       "    .dataframe tbody tr th:only-of-type {\n",
       "        vertical-align: middle;\n",
       "    }\n",
       "\n",
       "    .dataframe tbody tr th {\n",
       "        vertical-align: top;\n",
       "    }\n",
       "\n",
       "    .dataframe thead th {\n",
       "        text-align: right;\n",
       "    }\n",
       "</style>\n",
       "<table border=\"1\" class=\"dataframe\">\n",
       "  <thead>\n",
       "    <tr style=\"text-align: right;\">\n",
       "      <th></th>\n",
       "      <th>const</th>\n",
       "      <th>R&amp;D Spend</th>\n",
       "      <th>State_Florida</th>\n",
       "      <th>State_New York</th>\n",
       "      <th>Administration_sqrt</th>\n",
       "      <th>Marketing Spend_sqrt</th>\n",
       "    </tr>\n",
       "  </thead>\n",
       "  <tbody>\n",
       "    <tr>\n",
       "      <th>0</th>\n",
       "      <td>1.0</td>\n",
       "      <td>165349.20</td>\n",
       "      <td>0</td>\n",
       "      <td>1</td>\n",
       "      <td>369.997027</td>\n",
       "      <td>686.865416</td>\n",
       "    </tr>\n",
       "    <tr>\n",
       "      <th>1</th>\n",
       "      <td>1.0</td>\n",
       "      <td>162597.70</td>\n",
       "      <td>0</td>\n",
       "      <td>0</td>\n",
       "      <td>389.072731</td>\n",
       "      <td>666.257105</td>\n",
       "    </tr>\n",
       "    <tr>\n",
       "      <th>2</th>\n",
       "      <td>1.0</td>\n",
       "      <td>153441.51</td>\n",
       "      <td>1</td>\n",
       "      <td>0</td>\n",
       "      <td>318.033882</td>\n",
       "      <td>638.697534</td>\n",
       "    </tr>\n",
       "    <tr>\n",
       "      <th>3</th>\n",
       "      <td>1.0</td>\n",
       "      <td>144372.41</td>\n",
       "      <td>0</td>\n",
       "      <td>1</td>\n",
       "      <td>344.487808</td>\n",
       "      <td>619.031195</td>\n",
       "    </tr>\n",
       "    <tr>\n",
       "      <th>4</th>\n",
       "      <td>1.0</td>\n",
       "      <td>142107.34</td>\n",
       "      <td>1</td>\n",
       "      <td>0</td>\n",
       "      <td>302.310718</td>\n",
       "      <td>605.118517</td>\n",
       "    </tr>\n",
       "  </tbody>\n",
       "</table>\n",
       "</div>"
      ],
      "text/plain": [
       "   const  R&D Spend  State_Florida  State_New York  Administration_sqrt  \\\n",
       "0    1.0  165349.20              0               1           369.997027   \n",
       "1    1.0  162597.70              0               0           389.072731   \n",
       "2    1.0  153441.51              1               0           318.033882   \n",
       "3    1.0  144372.41              0               1           344.487808   \n",
       "4    1.0  142107.34              1               0           302.310718   \n",
       "\n",
       "   Marketing Spend_sqrt  \n",
       "0            686.865416  \n",
       "1            666.257105  \n",
       "2            638.697534  \n",
       "3            619.031195  \n",
       "4            605.118517  "
      ]
     },
     "execution_count": 15,
     "metadata": {},
     "output_type": "execute_result"
    }
   ],
   "source": [
    "x2 = x.copy()\n",
    "x2[\"Administration_sq\"] = np.square(x[\"Administration\"])\n",
    "x2[\"Marketing Spend_sq\"] = np.square(x[\"Marketing Spend\"])\n",
    "x2 = x2.drop([\"Administration\"], axis = 1)\n",
    "x2 = x2.drop([\"Marketing Spend\"], axis = 1)\n",
    "x2.head()\n"
   ]
  },
  {
   "cell_type": "code",
   "execution_count": 16,
   "id": "abe07eea",
   "metadata": {},
   "outputs": [],
   "source": [
    "x1 = sm.add_constant(x1)\n",
    "\n",
    "model = sm.OLS(y, x1).fit()\n",
    "# model.summary()"
   ]
  },
  {
   "cell_type": "code",
   "execution_count": 18,
   "id": "988ac704",
   "metadata": {},
   "outputs": [
    {
     "data": {
      "text/plain": [
       "0.9505430446185115"
      ]
     },
     "execution_count": 18,
     "metadata": {},
     "output_type": "execute_result"
    }
   ],
   "source": [
    "x_const1 = sm.add_constant(x1)\n",
    "y_pred1 = model.predict(x_const1)\n",
    "r_2_sqrt = r2_score(y,y_pred1)\n",
    "r_2_sqrt"
   ]
  },
  {
   "cell_type": "code",
   "execution_count": null,
   "id": "b18ec6c0",
   "metadata": {},
   "outputs": [],
   "source": [
    "sns.pairplot(x1)"
   ]
  },
  {
   "cell_type": "code",
   "execution_count": null,
   "id": "7b849e96",
   "metadata": {},
   "outputs": [],
   "source": []
  },
  {
   "cell_type": "code",
   "execution_count": null,
   "id": "3017bc5e",
   "metadata": {},
   "outputs": [],
   "source": [
    "def r2_calcs(x,y):\n",
    "    x = sm.add_constant(x)\n",
    "    model = sm.OLS(y, x).fit()\n",
    "    x_const = sm.add_constant(x)\n",
    "    y_pred = model.predict(x_const)\n",
    "    r_2 = r2_score(y,y_pred)\n",
    "    return r_2"
   ]
  },
  {
   "cell_type": "code",
   "execution_count": null,
   "id": "5cc4d168",
   "metadata": {},
   "outputs": [],
   "source": [
    "y = df_2[\"Profit\"]\n",
    "x = df_2.drop([\"Profit\"], axis = 1)\n",
    "r2_simple = r2_calcs(x,y)\n",
    "\n",
    "x_log = np.log(x)\n",
    "# print(x_log)\n",
    "# r2_log = r2_calcs(x_log, y)"
   ]
  },
  {
   "cell_type": "code",
   "execution_count": null,
   "id": "c1b66d45",
   "metadata": {},
   "outputs": [],
   "source": [
    "x_log = x.copy()\n",
    "x_log[\"Administration_log\"] = np.log(x[\"Administration\"])\n",
    "x_log = x_log.drop([\"Administration\"], axis = 1)\n",
    "x_log.head()"
   ]
  },
  {
   "cell_type": "code",
   "execution_count": 19,
   "id": "7cd463c9",
   "metadata": {},
   "outputs": [
    {
     "data": {
      "text/plain": [
       "array([ 1,  4,  9, 16])"
      ]
     },
     "execution_count": 19,
     "metadata": {},
     "output_type": "execute_result"
    }
   ],
   "source": [
    "a = np.array([1,2,3,4])\n",
    "b = np.square(a)\n",
    "b"
   ]
  },
  {
   "cell_type": "code",
   "execution_count": null,
   "id": "bcddcb3a",
   "metadata": {},
   "outputs": [],
   "source": []
  }
 ],
 "metadata": {
  "kernelspec": {
   "display_name": "Python 3 (ipykernel)",
   "language": "python",
   "name": "python3"
  },
  "language_info": {
   "codemirror_mode": {
    "name": "ipython",
    "version": 3
   },
   "file_extension": ".py",
   "mimetype": "text/x-python",
   "name": "python",
   "nbconvert_exporter": "python",
   "pygments_lexer": "ipython3",
   "version": "3.10.9"
  }
 },
 "nbformat": 4,
 "nbformat_minor": 5
}
