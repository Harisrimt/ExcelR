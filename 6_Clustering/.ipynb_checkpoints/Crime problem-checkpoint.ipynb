{
 "cells": [
  {
   "cell_type": "code",
   "execution_count": 1,
   "id": "ef038d89",
   "metadata": {},
   "outputs": [],
   "source": [
    "import numpy as np\n",
    "import pandas as pd\n",
    "import matplotlib.pyplot as plt\n",
    "import seaborn as sns\n",
    "import warnings\n",
    "import scipy.cluster.hierarchy as sch\n",
    "from sklearn.cluster import AgglomerativeClustering\n",
    "from sklearn.cluster import KMeans\n",
    "from sklearn.cluster import DBSCAN\n",
    "from sklearn import metrics\n",
    "from sklearn.preprocessing import MinMaxScaler, StandardScaler\n",
    "import collections"
   ]
  },
  {
   "cell_type": "code",
   "execution_count": 2,
   "id": "4d7b1959",
   "metadata": {},
   "outputs": [
    {
     "data": {
      "text/html": [
       "<div>\n",
       "<style scoped>\n",
       "    .dataframe tbody tr th:only-of-type {\n",
       "        vertical-align: middle;\n",
       "    }\n",
       "\n",
       "    .dataframe tbody tr th {\n",
       "        vertical-align: top;\n",
       "    }\n",
       "\n",
       "    .dataframe thead th {\n",
       "        text-align: right;\n",
       "    }\n",
       "</style>\n",
       "<table border=\"1\" class=\"dataframe\">\n",
       "  <thead>\n",
       "    <tr style=\"text-align: right;\">\n",
       "      <th></th>\n",
       "      <th>Unnamed: 0</th>\n",
       "      <th>Murder</th>\n",
       "      <th>Assault</th>\n",
       "      <th>UrbanPop</th>\n",
       "      <th>Rape</th>\n",
       "    </tr>\n",
       "  </thead>\n",
       "  <tbody>\n",
       "    <tr>\n",
       "      <th>0</th>\n",
       "      <td>Alabama</td>\n",
       "      <td>13.2</td>\n",
       "      <td>236</td>\n",
       "      <td>58</td>\n",
       "      <td>21.2</td>\n",
       "    </tr>\n",
       "    <tr>\n",
       "      <th>1</th>\n",
       "      <td>Alaska</td>\n",
       "      <td>10.0</td>\n",
       "      <td>263</td>\n",
       "      <td>48</td>\n",
       "      <td>44.5</td>\n",
       "    </tr>\n",
       "    <tr>\n",
       "      <th>2</th>\n",
       "      <td>Arizona</td>\n",
       "      <td>8.1</td>\n",
       "      <td>294</td>\n",
       "      <td>80</td>\n",
       "      <td>31.0</td>\n",
       "    </tr>\n",
       "    <tr>\n",
       "      <th>3</th>\n",
       "      <td>Arkansas</td>\n",
       "      <td>8.8</td>\n",
       "      <td>190</td>\n",
       "      <td>50</td>\n",
       "      <td>19.5</td>\n",
       "    </tr>\n",
       "    <tr>\n",
       "      <th>4</th>\n",
       "      <td>California</td>\n",
       "      <td>9.0</td>\n",
       "      <td>276</td>\n",
       "      <td>91</td>\n",
       "      <td>40.6</td>\n",
       "    </tr>\n",
       "  </tbody>\n",
       "</table>\n",
       "</div>"
      ],
      "text/plain": [
       "   Unnamed: 0  Murder  Assault  UrbanPop  Rape\n",
       "0     Alabama    13.2      236        58  21.2\n",
       "1      Alaska    10.0      263        48  44.5\n",
       "2     Arizona     8.1      294        80  31.0\n",
       "3    Arkansas     8.8      190        50  19.5\n",
       "4  California     9.0      276        91  40.6"
      ]
     },
     "execution_count": 2,
     "metadata": {},
     "output_type": "execute_result"
    }
   ],
   "source": [
    "df_raw = pd.read_csv(\"crime_data.csv\")\n",
    "df_raw.head()"
   ]
  },
  {
   "cell_type": "code",
   "execution_count": 3,
   "id": "8439b9f0",
   "metadata": {},
   "outputs": [
    {
     "data": {
      "text/html": [
       "<div>\n",
       "<style scoped>\n",
       "    .dataframe tbody tr th:only-of-type {\n",
       "        vertical-align: middle;\n",
       "    }\n",
       "\n",
       "    .dataframe tbody tr th {\n",
       "        vertical-align: top;\n",
       "    }\n",
       "\n",
       "    .dataframe thead th {\n",
       "        text-align: right;\n",
       "    }\n",
       "</style>\n",
       "<table border=\"1\" class=\"dataframe\">\n",
       "  <thead>\n",
       "    <tr style=\"text-align: right;\">\n",
       "      <th></th>\n",
       "      <th>Murder</th>\n",
       "      <th>Assault</th>\n",
       "      <th>UrbanPop</th>\n",
       "      <th>Rape</th>\n",
       "    </tr>\n",
       "  </thead>\n",
       "  <tbody>\n",
       "    <tr>\n",
       "      <th>0</th>\n",
       "      <td>13.2</td>\n",
       "      <td>236</td>\n",
       "      <td>58</td>\n",
       "      <td>21.2</td>\n",
       "    </tr>\n",
       "  </tbody>\n",
       "</table>\n",
       "</div>"
      ],
      "text/plain": [
       "   Murder  Assault  UrbanPop  Rape\n",
       "0    13.2      236        58  21.2"
      ]
     },
     "execution_count": 3,
     "metadata": {},
     "output_type": "execute_result"
    }
   ],
   "source": [
    "df = df_raw.drop([\"Unnamed: 0\"], axis = 1)\n",
    "df.head(1)"
   ]
  },
  {
   "cell_type": "code",
   "execution_count": 4,
   "id": "205f042b",
   "metadata": {},
   "outputs": [
    {
     "data": {
      "text/plain": [
       "Index(['Murder', 'Assault', 'UrbanPop', 'Rape'], dtype='object')"
      ]
     },
     "execution_count": 4,
     "metadata": {},
     "output_type": "execute_result"
    }
   ],
   "source": [
    "cols = df.columns\n",
    "cols"
   ]
  },
  {
   "cell_type": "code",
   "execution_count": 5,
   "id": "a9dbaba6",
   "metadata": {},
   "outputs": [
    {
     "data": {
      "text/html": [
       "<div>\n",
       "<style scoped>\n",
       "    .dataframe tbody tr th:only-of-type {\n",
       "        vertical-align: middle;\n",
       "    }\n",
       "\n",
       "    .dataframe tbody tr th {\n",
       "        vertical-align: top;\n",
       "    }\n",
       "\n",
       "    .dataframe thead th {\n",
       "        text-align: right;\n",
       "    }\n",
       "</style>\n",
       "<table border=\"1\" class=\"dataframe\">\n",
       "  <thead>\n",
       "    <tr style=\"text-align: right;\">\n",
       "      <th></th>\n",
       "      <th>Murder</th>\n",
       "      <th>Assault</th>\n",
       "      <th>UrbanPop</th>\n",
       "      <th>Rape</th>\n",
       "    </tr>\n",
       "  </thead>\n",
       "  <tbody>\n",
       "    <tr>\n",
       "      <th>0</th>\n",
       "      <td>0.746988</td>\n",
       "      <td>0.654110</td>\n",
       "      <td>0.440678</td>\n",
       "      <td>0.359173</td>\n",
       "    </tr>\n",
       "    <tr>\n",
       "      <th>1</th>\n",
       "      <td>0.554217</td>\n",
       "      <td>0.746575</td>\n",
       "      <td>0.271186</td>\n",
       "      <td>0.961240</td>\n",
       "    </tr>\n",
       "    <tr>\n",
       "      <th>2</th>\n",
       "      <td>0.439759</td>\n",
       "      <td>0.852740</td>\n",
       "      <td>0.813559</td>\n",
       "      <td>0.612403</td>\n",
       "    </tr>\n",
       "    <tr>\n",
       "      <th>3</th>\n",
       "      <td>0.481928</td>\n",
       "      <td>0.496575</td>\n",
       "      <td>0.305085</td>\n",
       "      <td>0.315245</td>\n",
       "    </tr>\n",
       "    <tr>\n",
       "      <th>4</th>\n",
       "      <td>0.493976</td>\n",
       "      <td>0.791096</td>\n",
       "      <td>1.000000</td>\n",
       "      <td>0.860465</td>\n",
       "    </tr>\n",
       "  </tbody>\n",
       "</table>\n",
       "</div>"
      ],
      "text/plain": [
       "     Murder   Assault  UrbanPop      Rape\n",
       "0  0.746988  0.654110  0.440678  0.359173\n",
       "1  0.554217  0.746575  0.271186  0.961240\n",
       "2  0.439759  0.852740  0.813559  0.612403\n",
       "3  0.481928  0.496575  0.305085  0.315245\n",
       "4  0.493976  0.791096  1.000000  0.860465"
      ]
     },
     "execution_count": 5,
     "metadata": {},
     "output_type": "execute_result"
    }
   ],
   "source": [
    "minmax = MinMaxScaler()\n",
    "df_arr = minmax.fit_transform(df)\n",
    "df = pd.DataFrame(df_arr, columns = cols)\n",
    "df.head()"
   ]
  },
  {
   "cell_type": "code",
   "execution_count": 6,
   "id": "ebacc480",
   "metadata": {},
   "outputs": [
    {
     "data": {
      "image/png": "[encoded data removed]",
      "text/plain": [
       "<Figure size 640x480 with 1 Axes>"
      ]
     },
     "metadata": {},
     "output_type": "display_data"
    }
   ],
   "source": [
    "dendrogram = sch.dendrogram(sch.linkage(df, method='average'))"
   ]
  },
  {
   "cell_type": "code",
   "execution_count": 7,
   "id": "7626d677",
   "metadata": {},
   "outputs": [],
   "source": [
    "hc = AgglomerativeClustering(n_clusters = 2, affinity='euclidean', linkage='average')"
   ]
  },
  {
   "cell_type": "code",
   "execution_count": 8,
   "id": "bfa2aec0",
   "metadata": {},
   "outputs": [
    {
     "name": "stderr",
     "output_type": "stream",
     "text": [
      "/Users/hari/anaconda3/lib/python3.10/site-packages/sklearn/cluster/_agglomerative.py:983: FutureWarning: Attribute `affinity` was deprecated in version 1.2 and will be removed in 1.4. Use `metric` instead\n",
      "  warnings.warn(\n"
     ]
    }
   ],
   "source": [
    "y_hc = hc.fit_predict(df)\n",
    "Clusters=pd.DataFrame(y_hc,columns=['Clusters'])"
   ]
  },
  {
   "cell_type": "code",
   "execution_count": 9,
   "id": "71ca4295",
   "metadata": {},
   "outputs": [
    {
     "data": {
      "text/plain": [
       "Clusters\n",
       "1           30\n",
       "0           20\n",
       "dtype: int64"
      ]
     },
     "execution_count": 9,
     "metadata": {},
     "output_type": "execute_result"
    }
   ],
   "source": [
    "Clusters.value_counts()"
   ]
  },
  {
   "cell_type": "markdown",
   "id": "45d9add9",
   "metadata": {},
   "source": [
    "###### K-Means clustering"
   ]
  },
  {
   "cell_type": "code",
   "execution_count": 10,
   "id": "1613a461",
   "metadata": {},
   "outputs": [
    {
     "data": {
      "image/png": "[encoded data removed]",
      "text/plain": [
       "<Figure size 640x480 with 1 Axes>"
      ]
     },
     "metadata": {},
     "output_type": "display_data"
    }
   ],
   "source": [
    "warnings.filterwarnings('ignore')\n",
    "wcss = []\n",
    "for i in range(1, 16):\n",
    "    kmeans = KMeans(n_clusters=i,random_state=145)\n",
    "    kmeans.fit(df)\n",
    "    wcss.append(kmeans.inertia_)\n",
    "    \n",
    "plt.plot(range(1, 16), wcss)\n",
    "plt.title('Elbow Method')\n",
    "plt.xlabel('Number of clusters')\n",
    "plt.ylabel('WCSS')\n",
    "plt.show()"
   ]
  },
  {
   "cell_type": "code",
   "execution_count": 11,
   "id": "4e8582cd",
   "metadata": {},
   "outputs": [
    {
     "data": {
      "text/html": [
       "<style>#sk-container-id-1 {color: black;background-color: white;}#sk-container-id-1 pre{padding: 0;}#sk-container-id-1 div.sk-toggleable {background-color: white;}#sk-container-id-1 label.sk-toggleable__label {cursor: pointer;display: block;width: 100%;margin-bottom: 0;padding: 0.3em;box-sizing: border-box;text-align: center;}#sk-container-id-1 label.sk-toggleable__label-arrow:before {content: \"▸\";float: left;margin-right: 0.25em;color: #696969;}#sk-container-id-1 label.sk-toggleable__label-arrow:hover:before {color: black;}#sk-container-id-1 div.sk-estimator:hover label.sk-toggleable__label-arrow:before {color: black;}#sk-container-id-1 div.sk-toggleable__content {max-height: 0;max-width: 0;overflow: hidden;text-align: left;background-color: #f0f8ff;}#sk-container-id-1 div.sk-toggleable__content pre {margin: 0.2em;color: black;border-radius: 0.25em;background-color: #f0f8ff;}#sk-container-id-1 input.sk-toggleable__control:checked~div.sk-toggleable__content {max-height: 200px;max-width: 100%;overflow: auto;}#sk-container-id-1 input.sk-toggleable__control:checked~label.sk-toggleable__label-arrow:before {content: \"▾\";}#sk-container-id-1 div.sk-estimator input.sk-toggleable__control:checked~label.sk-toggleable__label {background-color: #d4ebff;}#sk-container-id-1 div.sk-label input.sk-toggleable__control:checked~label.sk-toggleable__label {background-color: #d4ebff;}#sk-container-id-1 input.sk-hidden--visually {border: 0;clip: rect(1px 1px 1px 1px);clip: rect(1px, 1px, 1px, 1px);height: 1px;margin: -1px;overflow: hidden;padding: 0;position: absolute;width: 1px;}#sk-container-id-1 div.sk-estimator {font-family: monospace;background-color: #f0f8ff;border: 1px dotted black;border-radius: 0.25em;box-sizing: border-box;margin-bottom: 0.5em;}#sk-container-id-1 div.sk-estimator:hover {background-color: #d4ebff;}#sk-container-id-1 div.sk-parallel-item::after {content: \"\";width: 100%;border-bottom: 1px solid gray;flex-grow: 1;}#sk-container-id-1 div.sk-label:hover label.sk-toggleable__label {background-color: #d4ebff;}#sk-container-id-1 div.sk-serial::before {content: \"\";position: absolute;border-left: 1px solid gray;box-sizing: border-box;top: 0;bottom: 0;left: 50%;z-index: 0;}#sk-container-id-1 div.sk-serial {display: flex;flex-direction: column;align-items: center;background-color: white;padding-right: 0.2em;padding-left: 0.2em;position: relative;}#sk-container-id-1 div.sk-item {position: relative;z-index: 1;}#sk-container-id-1 div.sk-parallel {display: flex;align-items: stretch;justify-content: center;background-color: white;position: relative;}#sk-container-id-1 div.sk-item::before, #sk-container-id-1 div.sk-parallel-item::before {content: \"\";position: absolute;border-left: 1px solid gray;box-sizing: border-box;top: 0;bottom: 0;left: 50%;z-index: -1;}#sk-container-id-1 div.sk-parallel-item {display: flex;flex-direction: column;z-index: 1;position: relative;background-color: white;}#sk-container-id-1 div.sk-parallel-item:first-child::after {align-self: flex-end;width: 50%;}#sk-container-id-1 div.sk-parallel-item:last-child::after {align-self: flex-start;width: 50%;}#sk-container-id-1 div.sk-parallel-item:only-child::after {width: 0;}#sk-container-id-1 div.sk-dashed-wrapped {border: 1px dashed gray;margin: 0 0.4em 0.5em 0.4em;box-sizing: border-box;padding-bottom: 0.4em;background-color: white;}#sk-container-id-1 div.sk-label label {font-family: monospace;font-weight: bold;display: inline-block;line-height: 1.2em;}#sk-container-id-1 div.sk-label-container {text-align: center;}#sk-container-id-1 div.sk-container {/* jupyter's `normalize.less` sets `[hidden] { display: none; }` but bootstrap.min.css set `[hidden] { display: none !important; }` so we also need the `!important` here to be able to override the default hidden behavior on the sphinx rendered scikit-learn.org. See: https://github.com/scikit-learn/scikit-learn/issues/21755 */display: inline-block !important;position: relative;}#sk-container-id-1 div.sk-text-repr-fallback {display: none;}</style><div id=\"sk-container-id-1\" class=\"sk-top-container\"><div class=\"sk-text-repr-fallback\"><pre>KMeans(n_clusters=4, random_state=145)</pre><b>In a Jupyter environment, please rerun this cell to show the HTML representation or trust the notebook. <br />On GitHub, the HTML representation is unable to render, please try loading this page with nbviewer.org.</b></div><div class=\"sk-container\" hidden><div class=\"sk-item\"><div class=\"sk-estimator sk-toggleable\"><input class=\"sk-toggleable__control sk-hidden--visually\" id=\"sk-estimator-id-1\" type=\"checkbox\" checked><label for=\"sk-estimator-id-1\" class=\"sk-toggleable__label sk-toggleable__label-arrow\">KMeans</label><div class=\"sk-toggleable__content\"><pre>KMeans(n_clusters=4, random_state=145)</pre></div></div></div></div></div>"
      ],
      "text/plain": [
       "KMeans(n_clusters=4, random_state=145)"
      ]
     },
     "execution_count": 11,
     "metadata": {},
     "output_type": "execute_result"
    }
   ],
   "source": [
    "kmeans = KMeans(n_clusters=4,random_state=145)\n",
    "kmeans.fit(df)"
   ]
  },
  {
   "cell_type": "code",
   "execution_count": 12,
   "id": "08fd0d2e",
   "metadata": {},
   "outputs": [
    {
     "data": {
      "text/plain": [
       "0.34089035600743633"
      ]
     },
     "execution_count": 12,
     "metadata": {},
     "output_type": "execute_result"
    }
   ],
   "source": [
    "metrics.silhouette_score(df, kmeans.labels_)"
   ]
  },
  {
   "cell_type": "markdown",
   "id": "acd41d66",
   "metadata": {},
   "source": [
    "###### DBSCAN"
   ]
  },
  {
   "cell_type": "code",
   "execution_count": 13,
   "id": "575c6ed6",
   "metadata": {},
   "outputs": [],
   "source": [
    "array = df.values\n",
    "stscaler = StandardScaler().fit(array)\n",
    "X = stscaler.transform(array)"
   ]
  },
  {
   "cell_type": "code",
   "execution_count": 14,
   "id": "40aae7f2",
   "metadata": {},
   "outputs": [
    {
     "data": {
      "text/html": [
       "<style>#sk-container-id-2 {color: black;background-color: white;}#sk-container-id-2 pre{padding: 0;}#sk-container-id-2 div.sk-toggleable {background-color: white;}#sk-container-id-2 label.sk-toggleable__label {cursor: pointer;display: block;width: 100%;margin-bottom: 0;padding: 0.3em;box-sizing: border-box;text-align: center;}#sk-container-id-2 label.sk-toggleable__label-arrow:before {content: \"▸\";float: left;margin-right: 0.25em;color: #696969;}#sk-container-id-2 label.sk-toggleable__label-arrow:hover:before {color: black;}#sk-container-id-2 div.sk-estimator:hover label.sk-toggleable__label-arrow:before {color: black;}#sk-container-id-2 div.sk-toggleable__content {max-height: 0;max-width: 0;overflow: hidden;text-align: left;background-color: #f0f8ff;}#sk-container-id-2 div.sk-toggleable__content pre {margin: 0.2em;color: black;border-radius: 0.25em;background-color: #f0f8ff;}#sk-container-id-2 input.sk-toggleable__control:checked~div.sk-toggleable__content {max-height: 200px;max-width: 100%;overflow: auto;}#sk-container-id-2 input.sk-toggleable__control:checked~label.sk-toggleable__label-arrow:before {content: \"▾\";}#sk-container-id-2 div.sk-estimator input.sk-toggleable__control:checked~label.sk-toggleable__label {background-color: #d4ebff;}#sk-container-id-2 div.sk-label input.sk-toggleable__control:checked~label.sk-toggleable__label {background-color: #d4ebff;}#sk-container-id-2 input.sk-hidden--visually {border: 0;clip: rect(1px 1px 1px 1px);clip: rect(1px, 1px, 1px, 1px);height: 1px;margin: -1px;overflow: hidden;padding: 0;position: absolute;width: 1px;}#sk-container-id-2 div.sk-estimator {font-family: monospace;background-color: #f0f8ff;border: 1px dotted black;border-radius: 0.25em;box-sizing: border-box;margin-bottom: 0.5em;}#sk-container-id-2 div.sk-estimator:hover {background-color: #d4ebff;}#sk-container-id-2 div.sk-parallel-item::after {content: \"\";width: 100%;border-bottom: 1px solid gray;flex-grow: 1;}#sk-container-id-2 div.sk-label:hover label.sk-toggleable__label {background-color: #d4ebff;}#sk-container-id-2 div.sk-serial::before {content: \"\";position: absolute;border-left: 1px solid gray;box-sizing: border-box;top: 0;bottom: 0;left: 50%;z-index: 0;}#sk-container-id-2 div.sk-serial {display: flex;flex-direction: column;align-items: center;background-color: white;padding-right: 0.2em;padding-left: 0.2em;position: relative;}#sk-container-id-2 div.sk-item {position: relative;z-index: 1;}#sk-container-id-2 div.sk-parallel {display: flex;align-items: stretch;justify-content: center;background-color: white;position: relative;}#sk-container-id-2 div.sk-item::before, #sk-container-id-2 div.sk-parallel-item::before {content: \"\";position: absolute;border-left: 1px solid gray;box-sizing: border-box;top: 0;bottom: 0;left: 50%;z-index: -1;}#sk-container-id-2 div.sk-parallel-item {display: flex;flex-direction: column;z-index: 1;position: relative;background-color: white;}#sk-container-id-2 div.sk-parallel-item:first-child::after {align-self: flex-end;width: 50%;}#sk-container-id-2 div.sk-parallel-item:last-child::after {align-self: flex-start;width: 50%;}#sk-container-id-2 div.sk-parallel-item:only-child::after {width: 0;}#sk-container-id-2 div.sk-dashed-wrapped {border: 1px dashed gray;margin: 0 0.4em 0.5em 0.4em;box-sizing: border-box;padding-bottom: 0.4em;background-color: white;}#sk-container-id-2 div.sk-label label {font-family: monospace;font-weight: bold;display: inline-block;line-height: 1.2em;}#sk-container-id-2 div.sk-label-container {text-align: center;}#sk-container-id-2 div.sk-container {/* jupyter's `normalize.less` sets `[hidden] { display: none; }` but bootstrap.min.css set `[hidden] { display: none !important; }` so we also need the `!important` here to be able to override the default hidden behavior on the sphinx rendered scikit-learn.org. See: https://github.com/scikit-learn/scikit-learn/issues/21755 */display: inline-block !important;position: relative;}#sk-container-id-2 div.sk-text-repr-fallback {display: none;}</style><div id=\"sk-container-id-2\" class=\"sk-top-container\"><div class=\"sk-text-repr-fallback\"><pre>DBSCAN(eps=1.5)</pre><b>In a Jupyter environment, please rerun this cell to show the HTML representation or trust the notebook. <br />On GitHub, the HTML representation is unable to render, please try loading this page with nbviewer.org.</b></div><div class=\"sk-container\" hidden><div class=\"sk-item\"><div class=\"sk-estimator sk-toggleable\"><input class=\"sk-toggleable__control sk-hidden--visually\" id=\"sk-estimator-id-2\" type=\"checkbox\" checked><label for=\"sk-estimator-id-2\" class=\"sk-toggleable__label sk-toggleable__label-arrow\">DBSCAN</label><div class=\"sk-toggleable__content\"><pre>DBSCAN(eps=1.5)</pre></div></div></div></div></div>"
      ],
      "text/plain": [
       "DBSCAN(eps=1.5)"
      ]
     },
     "execution_count": 14,
     "metadata": {},
     "output_type": "execute_result"
    }
   ],
   "source": [
    "dbscan = DBSCAN(eps=1.5, min_samples=5)\n",
    "dbscan.fit(X)"
   ]
  },
  {
   "cell_type": "code",
   "execution_count": 15,
   "id": "d9469e9e",
   "metadata": {},
   "outputs": [
    {
     "data": {
      "text/plain": [
       "numpy.ndarray"
      ]
     },
     "execution_count": 15,
     "metadata": {},
     "output_type": "execute_result"
    }
   ],
   "source": [
    "a = dbscan.labels_\n",
    "type(a)"
   ]
  },
  {
   "cell_type": "code",
   "execution_count": 16,
   "id": "7debac70",
   "metadata": {},
   "outputs": [
    {
     "data": {
      "text/plain": [
       "(50, Counter({0: 49, -1: 1}))"
      ]
     },
     "execution_count": 16,
     "metadata": {},
     "output_type": "execute_result"
    }
   ],
   "source": [
    "len(a), collections.Counter(a)"
   ]
  },
  {
   "cell_type": "markdown",
   "id": "b2de6cee",
   "metadata": {},
   "source": [
    "###### To find the best values for epsilon and minimum number of samples."
   ]
  },
  {
   "cell_type": "code",
   "execution_count": 17,
   "id": "691f618f",
   "metadata": {},
   "outputs": [
    {
     "name": "stdout",
     "output_type": "stream",
     "text": [
      "0.1 1 50 Counter({0: 1, 1: 1, 2: 1, 3: 1, 4: 1, 5: 1, 6: 1, 7: 1, 8: 1, 9: 1, 10: 1, 11: 1, 12: 1, 13: 1, 14: 1, 15: 1, 16: 1, 17: 1, 18: 1, 19: 1, 20: 1, 21: 1, 22: 1, 23: 1, 24: 1, 25: 1, 26: 1, 27: 1, 28: 1, 29: 1, 30: 1, 31: 1, 32: 1, 33: 1, 34: 1, 35: 1, 36: 1, 37: 1, 38: 1, 39: 1, 40: 1, 41: 1, 42: 1, 43: 1, 44: 1, 45: 1, 46: 1, 47: 1, 48: 1, 49: 1})\n",
      "0.1 2 1 Counter({-1: 50})\n",
      "0.1 3 1 Counter({-1: 50})\n",
      "0.1 4 1 Counter({-1: 50})\n",
      "0.1 5 1 Counter({-1: 50})\n",
      "0.1 6 1 Counter({-1: 50})\n",
      "0.1 7 1 Counter({-1: 50})\n",
      "0.1 8 1 Counter({-1: 50})\n",
      "0.1 9 1 Counter({-1: 50})\n",
      "0.2 1 50 Counter({0: 1, 1: 1, 2: 1, 3: 1, 4: 1, 5: 1, 6: 1, 7: 1, 8: 1, 9: 1, 10: 1, 11: 1, 12: 1, 13: 1, 14: 1, 15: 1, 16: 1, 17: 1, 18: 1, 19: 1, 20: 1, 21: 1, 22: 1, 23: 1, 24: 1, 25: 1, 26: 1, 27: 1, 28: 1, 29: 1, 30: 1, 31: 1, 32: 1, 33: 1, 34: 1, 35: 1, 36: 1, 37: 1, 38: 1, 39: 1, 40: 1, 41: 1, 42: 1, 43: 1, 44: 1, 45: 1, 46: 1, 47: 1, 48: 1, 49: 1})\n",
      "0.2 2 1 Counter({-1: 50})\n",
      "0.2 3 1 Counter({-1: 50})\n",
      "0.2 4 1 Counter({-1: 50})\n",
      "0.2 5 1 Counter({-1: 50})\n",
      "0.2 6 1 Counter({-1: 50})\n",
      "0.2 7 1 Counter({-1: 50})\n",
      "0.2 8 1 Counter({-1: 50})\n",
      "0.2 9 1 Counter({-1: 50})\n",
      "0.30000000000000004 1 49 Counter({14: 2, 0: 1, 1: 1, 2: 1, 3: 1, 4: 1, 5: 1, 6: 1, 7: 1, 8: 1, 9: 1, 10: 1, 11: 1, 12: 1, 13: 1, 15: 1, 16: 1, 17: 1, 18: 1, 19: 1, 20: 1, 21: 1, 22: 1, 23: 1, 24: 1, 25: 1, 26: 1, 27: 1, 28: 1, 29: 1, 30: 1, 31: 1, 32: 1, 33: 1, 34: 1, 35: 1, 36: 1, 37: 1, 38: 1, 39: 1, 40: 1, 41: 1, 42: 1, 43: 1, 44: 1, 45: 1, 46: 1, 47: 1, 48: 1})\n",
      "0.30000000000000004 2 2 Counter({-1: 48, 0: 2})\n",
      "0.30000000000000004 3 1 Counter({-1: 50})\n",
      "0.30000000000000004 4 1 Counter({-1: 50})\n",
      "0.30000000000000004 5 1 Counter({-1: 50})\n",
      "0.30000000000000004 6 1 Counter({-1: 50})\n",
      "0.30000000000000004 7 1 Counter({-1: 50})\n",
      "0.30000000000000004 8 1 Counter({-1: 50})\n",
      "0.30000000000000004 9 1 Counter({-1: 50})\n",
      "0.4 1 48 Counter({12: 2, 14: 2, 0: 1, 1: 1, 2: 1, 3: 1, 4: 1, 5: 1, 6: 1, 7: 1, 8: 1, 9: 1, 10: 1, 11: 1, 13: 1, 15: 1, 16: 1, 17: 1, 18: 1, 19: 1, 20: 1, 21: 1, 22: 1, 23: 1, 24: 1, 25: 1, 26: 1, 27: 1, 28: 1, 29: 1, 30: 1, 31: 1, 32: 1, 33: 1, 34: 1, 35: 1, 36: 1, 37: 1, 38: 1, 39: 1, 40: 1, 41: 1, 42: 1, 43: 1, 44: 1, 45: 1, 46: 1, 47: 1})\n",
      "0.4 2 3 Counter({-1: 46, 0: 2, 1: 2})\n",
      "0.4 3 1 Counter({-1: 50})\n",
      "0.4 4 1 Counter({-1: 50})\n",
      "0.4 5 1 Counter({-1: 50})\n",
      "0.4 6 1 Counter({-1: 50})\n",
      "0.4 7 1 Counter({-1: 50})\n",
      "0.4 8 1 Counter({-1: 50})\n",
      "0.4 9 1 Counter({-1: 50})\n",
      "0.5 1 46 Counter({12: 2, 13: 2, 14: 2, 21: 2, 0: 1, 1: 1, 2: 1, 3: 1, 4: 1, 5: 1, 6: 1, 7: 1, 8: 1, 9: 1, 10: 1, 11: 1, 15: 1, 16: 1, 17: 1, 18: 1, 19: 1, 20: 1, 22: 1, 23: 1, 24: 1, 25: 1, 26: 1, 27: 1, 28: 1, 29: 1, 30: 1, 31: 1, 32: 1, 33: 1, 34: 1, 35: 1, 36: 1, 37: 1, 38: 1, 39: 1, 40: 1, 41: 1, 42: 1, 43: 1, 44: 1, 45: 1})\n",
      "0.5 2 5 Counter({-1: 42, 0: 2, 1: 2, 2: 2, 3: 2})\n",
      "0.5 3 1 Counter({-1: 50})\n",
      "0.5 4 1 Counter({-1: 50})\n",
      "0.5 5 1 Counter({-1: 50})\n",
      "0.5 6 1 Counter({-1: 50})\n",
      "0.5 7 1 Counter({-1: 50})\n",
      "0.5 8 1 Counter({-1: 50})\n",
      "0.5 9 1 Counter({-1: 50})\n",
      "0.6 1 38 Counter({13: 6, 14: 3, 17: 3, 12: 2, 19: 2, 28: 2, 0: 1, 1: 1, 2: 1, 3: 1, 4: 1, 5: 1, 6: 1, 7: 1, 8: 1, 9: 1, 10: 1, 11: 1, 15: 1, 16: 1, 18: 1, 20: 1, 21: 1, 22: 1, 23: 1, 24: 1, 25: 1, 26: 1, 27: 1, 29: 1, 30: 1, 31: 1, 32: 1, 33: 1, 34: 1, 35: 1, 36: 1, 37: 1})\n",
      "0.6 2 7 Counter({-1: 32, 1: 6, 2: 3, 3: 3, 0: 2, 4: 2, 5: 2})\n",
      "0.6 3 4 Counter({-1: 38, 0: 6, 1: 3, 2: 3})\n",
      "0.6 4 2 Counter({-1: 44, 0: 6})\n",
      "0.6 5 2 Counter({-1: 45, 0: 5})\n",
      "0.6 6 1 Counter({-1: 50})\n",
      "0.6 7 1 Counter({-1: 50})\n",
      "0.6 8 1 Counter({-1: 50})\n",
      "0.6 9 1 Counter({-1: 50})\n",
      "0.7000000000000001 1 35 Counter({13: 12, 16: 3, 12: 2, 25: 2, 0: 1, 1: 1, 2: 1, 3: 1, 4: 1, 5: 1, 6: 1, 7: 1, 8: 1, 9: 1, 10: 1, 11: 1, 14: 1, 15: 1, 17: 1, 18: 1, 19: 1, 20: 1, 21: 1, 22: 1, 23: 1, 24: 1, 26: 1, 27: 1, 28: 1, 29: 1, 30: 1, 31: 1, 32: 1, 33: 1, 34: 1})\n",
      "0.7000000000000001 2 5 Counter({-1: 31, 1: 12, 2: 3, 0: 2, 3: 2})\n",
      "0.7000000000000001 3 3 Counter({-1: 35, 0: 12, 1: 3})\n",
      "0.7000000000000001 4 3 Counter({-1: 39, 0: 7, 1: 4})\n",
      "0.7000000000000001 5 2 Counter({-1: 43, 0: 7})\n",
      "0.7000000000000001 6 1 Counter({-1: 50})\n",
      "0.7000000000000001 7 1 Counter({-1: 50})\n",
      "0.7000000000000001 8 1 Counter({-1: 50})\n",
      "0.7000000000000001 9 1 Counter({-1: 50})\n",
      "0.8 1 26 Counter({11: 18, 14: 3, 21: 3, 0: 2, 12: 2, 16: 2, 1: 1, 2: 1, 3: 1, 4: 1, 5: 1, 6: 1, 7: 1, 8: 1, 9: 1, 10: 1, 13: 1, 15: 1, 17: 1, 18: 1, 19: 1, 20: 1, 22: 1, 23: 1, 24: 1, 25: 1})\n",
      "0.8 2 7 Counter({-1: 20, 1: 18, 3: 3, 5: 3, 0: 2, 2: 2, 4: 2})\n",
      "0.8 3 4 Counter({-1: 26, 0: 18, 1: 3, 2: 3})\n",
      "0.8 4 2 Counter({-1: 33, 0: 17})\n",
      "0.8 5 3 Counter({-1: 33, 0: 11, 1: 6})\n",
      "0.8 6 2 Counter({-1: 42, 0: 8})\n",
      "0.8 7 2 Counter({-1: 43, 0: 7})\n",
      "0.8 8 1 Counter({-1: 50})\n",
      "0.8 9 1 Counter({-1: 50})\n",
      "0.9 1 20 Counter({6: 20, 0: 4, 10: 3, 11: 3, 17: 3, 12: 2, 13: 2, 1: 1, 2: 1, 3: 1, 4: 1, 5: 1, 7: 1, 8: 1, 9: 1, 14: 1, 15: 1, 16: 1, 18: 1, 19: 1})\n",
      "0.9 2 8 Counter({1: 20, -1: 13, 0: 4, 2: 3, 3: 3, 6: 3, 4: 2, 5: 2})\n",
      "0.9 3 6 Counter({1: 20, -1: 17, 0: 4, 2: 3, 3: 3, 4: 3})\n",
      "0.9 4 2 Counter({-1: 30, 0: 20})\n",
      "0.9 5 2 Counter({-1: 30, 0: 20})\n",
      "0.9 6 2 Counter({-1: 31, 0: 19})\n",
      "0.9 7 2 Counter({-1: 38, 0: 12})\n",
      "0.9 8 2 Counter({-1: 42, 0: 8})\n",
      "0.9 9 1 Counter({-1: 50})\n",
      "1.0 1 14 Counter({6: 28, 0: 6, 10: 3, 11: 3, 1: 1, 2: 1, 3: 1, 4: 1, 5: 1, 7: 1, 8: 1, 9: 1, 12: 1, 13: 1})\n",
      "1.0 2 5 Counter({1: 28, -1: 10, 0: 6, 2: 3, 3: 3})\n",
      "1.0 3 5 Counter({1: 28, -1: 10, 0: 6, 2: 3, 3: 3})\n",
      "1.0 4 3 Counter({1: 28, -1: 18, 0: 4})\n",
      "1.0 5 3 Counter({0: 24, -1: 23, 1: 3})\n",
      "1.0 6 2 Counter({-1: 28, 0: 22})\n",
      "1.0 7 2 Counter({-1: 28, 0: 22})\n",
      "1.0 8 2 Counter({-1: 32, 0: 18})\n",
      "1.0 9 2 Counter({-1: 36, 0: 14})\n",
      "1.1 1 9 Counter({3: 30, 0: 7, 2: 7, 1: 1, 4: 1, 5: 1, 6: 1, 7: 1, 8: 1})\n",
      "1.1 2 4 Counter({2: 30, 0: 7, 1: 7, -1: 6})\n",
      "1.1 3 4 Counter({2: 30, 0: 7, 1: 7, -1: 6})\n",
      "1.1 4 4 Counter({2: 30, -1: 7, 1: 7, 0: 6})\n",
      "1.1 5 2 Counter({0: 30, -1: 20})\n",
      "1.1 6 2 Counter({0: 28, -1: 22})\n",
      "1.1 7 2 Counter({0: 26, -1: 24})\n",
      "1.1 8 2 Counter({0: 26, -1: 24})\n",
      "1.1 9 2 Counter({-1: 26, 0: 24})\n",
      "1.2000000000000002 1 7 Counter({2: 38, 0: 7, 1: 1, 3: 1, 4: 1, 5: 1, 6: 1})\n",
      "1.2000000000000002 2 3 Counter({1: 38, 0: 7, -1: 5})\n",
      "1.2000000000000002 3 3 Counter({1: 38, 0: 7, -1: 5})\n",
      "1.2000000000000002 4 3 Counter({1: 38, 0: 7, -1: 5})\n",
      "1.2000000000000002 5 3 Counter({1: 32, -1: 13, 0: 5})\n",
      "1.2000000000000002 6 2 Counter({0: 32, -1: 18})\n",
      "1.2000000000000002 7 2 Counter({0: 31, -1: 19})\n",
      "1.2000000000000002 8 2 Counter({0: 30, -1: 20})\n",
      "1.2000000000000002 9 2 Counter({0: 30, -1: 20})\n",
      "1.3000000000000003 1 3 Counter({0: 48, 1: 1, 2: 1})\n",
      "1.3000000000000003 2 2 Counter({0: 48, -1: 2})\n",
      "1.3000000000000003 3 2 Counter({0: 48, -1: 2})\n",
      "1.3000000000000003 4 2 Counter({0: 47, -1: 3})\n",
      "1.3000000000000003 5 2 Counter({0: 46, -1: 4})\n",
      "1.3000000000000003 6 4 Counter({2: 32, 1: 8, 0: 6, -1: 4})\n",
      "1.3000000000000003 7 2 Counter({0: 33, -1: 17})\n",
      "1.3000000000000003 8 2 Counter({0: 33, -1: 17})\n",
      "1.3000000000000003 9 2 Counter({0: 33, -1: 17})\n",
      "1.4000000000000001 1 2 Counter({0: 49, 1: 1})\n",
      "1.4000000000000001 2 2 Counter({0: 49, -1: 1})\n",
      "1.4000000000000001 3 2 Counter({0: 49, -1: 1})\n",
      "1.4000000000000001 4 2 Counter({0: 49, -1: 1})\n",
      "1.4000000000000001 5 2 Counter({0: 49, -1: 1})\n",
      "1.4000000000000001 6 2 Counter({0: 48, -1: 2})\n",
      "1.4000000000000001 7 2 Counter({0: 48, -1: 2})\n",
      "1.4000000000000001 8 4 Counter({2: 30, 1: 10, 0: 8, -1: 2})\n",
      "1.4000000000000001 9 3 Counter({0: 35, -1: 8, 1: 7})\n",
      "1.5000000000000002 1 2 Counter({0: 49, 1: 1})\n",
      "1.5000000000000002 2 2 Counter({0: 49, -1: 1})\n",
      "1.5000000000000002 3 2 Counter({0: 49, -1: 1})\n",
      "1.5000000000000002 4 2 Counter({0: 49, -1: 1})\n",
      "1.5000000000000002 5 2 Counter({0: 49, -1: 1})\n",
      "1.5000000000000002 6 2 Counter({0: 49, -1: 1})\n",
      "1.5000000000000002 7 2 Counter({0: 49, -1: 1})\n",
      "1.5000000000000002 8 2 Counter({0: 48, -1: 2})\n",
      "1.5000000000000002 9 2 Counter({0: 46, -1: 4})\n",
      "1.6 1 2 Counter({0: 49, 1: 1})\n",
      "1.6 2 2 Counter({0: 49, -1: 1})\n",
      "1.6 3 2 Counter({0: 49, -1: 1})\n",
      "1.6 4 2 Counter({0: 49, -1: 1})\n",
      "1.6 5 2 Counter({0: 49, -1: 1})\n",
      "1.6 6 2 Counter({0: 49, -1: 1})\n",
      "1.6 7 2 Counter({0: 49, -1: 1})\n",
      "1.6 8 2 Counter({0: 48, -1: 2})\n",
      "1.6 9 2 Counter({0: 48, -1: 2})\n",
      "1.7000000000000002 1 2 Counter({0: 49, 1: 1})\n",
      "1.7000000000000002 2 2 Counter({0: 49, -1: 1})\n",
      "1.7000000000000002 3 2 Counter({0: 49, -1: 1})\n",
      "1.7000000000000002 4 2 Counter({0: 49, -1: 1})\n",
      "1.7000000000000002 5 2 Counter({0: 49, -1: 1})\n",
      "1.7000000000000002 6 2 Counter({0: 49, -1: 1})\n",
      "1.7000000000000002 7 2 Counter({0: 49, -1: 1})\n",
      "1.7000000000000002 8 2 Counter({0: 49, -1: 1})\n",
      "1.7000000000000002 9 2 Counter({0: 49, -1: 1})\n",
      "1.8000000000000003 1 2 Counter({0: 49, 1: 1})\n",
      "1.8000000000000003 2 2 Counter({0: 49, -1: 1})\n",
      "1.8000000000000003 3 2 Counter({0: 49, -1: 1})\n",
      "1.8000000000000003 4 2 Counter({0: 49, -1: 1})\n",
      "1.8000000000000003 5 2 Counter({0: 49, -1: 1})\n",
      "1.8000000000000003 6 2 Counter({0: 49, -1: 1})\n",
      "1.8000000000000003 7 2 Counter({0: 49, -1: 1})\n",
      "1.8000000000000003 8 2 Counter({0: 49, -1: 1})\n",
      "1.8000000000000003 9 2 Counter({0: 49, -1: 1})\n",
      "1.9000000000000001 1 2 Counter({0: 49, 1: 1})\n",
      "1.9000000000000001 2 2 Counter({0: 49, -1: 1})\n",
      "1.9000000000000001 3 2 Counter({0: 49, -1: 1})\n",
      "1.9000000000000001 4 2 Counter({0: 49, -1: 1})\n",
      "1.9000000000000001 5 2 Counter({0: 49, -1: 1})\n",
      "1.9000000000000001 6 2 Counter({0: 49, -1: 1})\n",
      "1.9000000000000001 7 2 Counter({0: 49, -1: 1})\n",
      "1.9000000000000001 8 2 Counter({0: 49, -1: 1})\n",
      "1.9000000000000001 9 2 Counter({0: 49, -1: 1})\n",
      "2.0 1 2 Counter({0: 49, 1: 1})\n",
      "2.0 2 2 Counter({0: 49, -1: 1})\n",
      "2.0 3 2 Counter({0: 49, -1: 1})\n",
      "2.0 4 2 Counter({0: 49, -1: 1})\n",
      "2.0 5 2 Counter({0: 49, -1: 1})\n",
      "2.0 6 2 Counter({0: 49, -1: 1})\n",
      "2.0 7 2 Counter({0: 49, -1: 1})\n",
      "2.0 8 2 Counter({0: 49, -1: 1})\n",
      "2.0 9 2 Counter({0: 49, -1: 1})\n",
      "2.1 1 1 Counter({0: 50})\n",
      "2.1 2 1 Counter({0: 50})\n",
      "2.1 3 1 Counter({0: 50})\n",
      "2.1 4 1 Counter({0: 50})\n",
      "2.1 5 1 Counter({0: 50})\n",
      "2.1 6 1 Counter({0: 50})\n",
      "2.1 7 1 Counter({0: 50})\n",
      "2.1 8 1 Counter({0: 50})\n",
      "2.1 9 1 Counter({0: 50})\n",
      "2.2 1 1 Counter({0: 50})\n",
      "2.2 2 1 Counter({0: 50})\n",
      "2.2 3 1 Counter({0: 50})\n",
      "2.2 4 1 Counter({0: 50})\n",
      "2.2 5 1 Counter({0: 50})\n",
      "2.2 6 1 Counter({0: 50})\n",
      "2.2 7 1 Counter({0: 50})\n",
      "2.2 8 1 Counter({0: 50})\n",
      "2.2 9 1 Counter({0: 50})\n",
      "2.3000000000000003 1 1 Counter({0: 50})\n",
      "2.3000000000000003 2 1 Counter({0: 50})\n",
      "2.3000000000000003 3 1 Counter({0: 50})\n",
      "2.3000000000000003 4 1 Counter({0: 50})\n",
      "2.3000000000000003 5 1 Counter({0: 50})\n",
      "2.3000000000000003 6 1 Counter({0: 50})\n",
      "2.3000000000000003 7 1 Counter({0: 50})\n",
      "2.3000000000000003 8 1 Counter({0: 50})\n",
      "2.3000000000000003 9 1 Counter({0: 50})\n",
      "2.4000000000000004 1 1 Counter({0: 50})\n",
      "2.4000000000000004 2 1 Counter({0: 50})\n",
      "2.4000000000000004 3 1 Counter({0: 50})\n",
      "2.4000000000000004 4 1 Counter({0: 50})\n",
      "2.4000000000000004 5 1 Counter({0: 50})\n",
      "2.4000000000000004 6 1 Counter({0: 50})\n",
      "2.4000000000000004 7 1 Counter({0: 50})\n",
      "2.4000000000000004 8 1 Counter({0: 50})\n",
      "2.4000000000000004 9 1 Counter({0: 50})\n",
      "2.5000000000000004 1 1 Counter({0: 50})\n",
      "2.5000000000000004 2 1 Counter({0: 50})\n",
      "2.5000000000000004 3 1 Counter({0: 50})\n",
      "2.5000000000000004 4 1 Counter({0: 50})\n",
      "2.5000000000000004 5 1 Counter({0: 50})\n",
      "2.5000000000000004 6 1 Counter({0: 50})\n",
      "2.5000000000000004 7 1 Counter({0: 50})\n",
      "2.5000000000000004 8 1 Counter({0: 50})\n",
      "2.5000000000000004 9 1 Counter({0: 50})\n",
      "2.6 1 1 Counter({0: 50})\n",
      "2.6 2 1 Counter({0: 50})\n",
      "2.6 3 1 Counter({0: 50})\n",
      "2.6 4 1 Counter({0: 50})\n",
      "2.6 5 1 Counter({0: 50})\n",
      "2.6 6 1 Counter({0: 50})\n",
      "2.6 7 1 Counter({0: 50})\n",
      "2.6 8 1 Counter({0: 50})\n",
      "2.6 9 1 Counter({0: 50})\n",
      "2.7 1 1 Counter({0: 50})\n",
      "2.7 2 1 Counter({0: 50})\n",
      "2.7 3 1 Counter({0: 50})\n",
      "2.7 4 1 Counter({0: 50})\n",
      "2.7 5 1 Counter({0: 50})\n",
      "2.7 6 1 Counter({0: 50})\n",
      "2.7 7 1 Counter({0: 50})\n",
      "2.7 8 1 Counter({0: 50})\n",
      "2.7 9 1 Counter({0: 50})\n",
      "2.8000000000000003 1 1 Counter({0: 50})\n",
      "2.8000000000000003 2 1 Counter({0: 50})\n"
     ]
    },
    {
     "name": "stdout",
     "output_type": "stream",
     "text": [
      "2.8000000000000003 3 1 Counter({0: 50})\n",
      "2.8000000000000003 4 1 Counter({0: 50})\n",
      "2.8000000000000003 5 1 Counter({0: 50})\n",
      "2.8000000000000003 6 1 Counter({0: 50})\n",
      "2.8000000000000003 7 1 Counter({0: 50})\n",
      "2.8000000000000003 8 1 Counter({0: 50})\n",
      "2.8000000000000003 9 1 Counter({0: 50})\n",
      "2.9000000000000004 1 1 Counter({0: 50})\n",
      "2.9000000000000004 2 1 Counter({0: 50})\n",
      "2.9000000000000004 3 1 Counter({0: 50})\n",
      "2.9000000000000004 4 1 Counter({0: 50})\n",
      "2.9000000000000004 5 1 Counter({0: 50})\n",
      "2.9000000000000004 6 1 Counter({0: 50})\n",
      "2.9000000000000004 7 1 Counter({0: 50})\n",
      "2.9000000000000004 8 1 Counter({0: 50})\n",
      "2.9000000000000004 9 1 Counter({0: 50})\n"
     ]
    }
   ],
   "source": [
    "for i in np.arange(0.1,3.0,0.1):\n",
    "    for j in range(1,10,1):\n",
    "        dbscan = DBSCAN(eps=i, min_samples=j)\n",
    "        dbscan.fit(X)\n",
    "        a = dbscan.labels_\n",
    "        print(i, j, len(collections.Counter(a)), collections.Counter(a))"
   ]
  },
  {
   "cell_type": "markdown",
   "id": "502d31c2",
   "metadata": {},
   "source": [
    "###### The best set of values is found out using visual inspection and is used below to find the clusters"
   ]
  },
  {
   "cell_type": "code",
   "execution_count": 20,
   "id": "0c2183b7",
   "metadata": {},
   "outputs": [
    {
     "name": "stdout",
     "output_type": "stream",
     "text": [
      "Counter({2: 30, 1: 10, 0: 8, -1: 2})\n"
     ]
    }
   ],
   "source": [
    "dbscan = DBSCAN(eps=1.4, min_samples=8)\n",
    "dbscan.fit(X)\n",
    "a = dbscan.labels_\n",
    "print(collections.Counter(a))"
   ]
  },
  {
   "cell_type": "code",
   "execution_count": 21,
   "id": "6dc7078f",
   "metadata": {},
   "outputs": [
    {
     "data": {
      "text/html": [
       "<div>\n",
       "<style scoped>\n",
       "    .dataframe tbody tr th:only-of-type {\n",
       "        vertical-align: middle;\n",
       "    }\n",
       "\n",
       "    .dataframe tbody tr th {\n",
       "        vertical-align: top;\n",
       "    }\n",
       "\n",
       "    .dataframe thead th {\n",
       "        text-align: right;\n",
       "    }\n",
       "</style>\n",
       "<table border=\"1\" class=\"dataframe\">\n",
       "  <thead>\n",
       "    <tr style=\"text-align: right;\">\n",
       "      <th></th>\n",
       "      <th>Murder</th>\n",
       "      <th>Assault</th>\n",
       "      <th>UrbanPop</th>\n",
       "      <th>Rape</th>\n",
       "      <th>Cluster</th>\n",
       "    </tr>\n",
       "  </thead>\n",
       "  <tbody>\n",
       "    <tr>\n",
       "      <th>0</th>\n",
       "      <td>0.746988</td>\n",
       "      <td>0.654110</td>\n",
       "      <td>0.440678</td>\n",
       "      <td>0.359173</td>\n",
       "      <td>0</td>\n",
       "    </tr>\n",
       "    <tr>\n",
       "      <th>1</th>\n",
       "      <td>0.554217</td>\n",
       "      <td>0.746575</td>\n",
       "      <td>0.271186</td>\n",
       "      <td>0.961240</td>\n",
       "      <td>-1</td>\n",
       "    </tr>\n",
       "    <tr>\n",
       "      <th>2</th>\n",
       "      <td>0.439759</td>\n",
       "      <td>0.852740</td>\n",
       "      <td>0.813559</td>\n",
       "      <td>0.612403</td>\n",
       "      <td>1</td>\n",
       "    </tr>\n",
       "    <tr>\n",
       "      <th>3</th>\n",
       "      <td>0.481928</td>\n",
       "      <td>0.496575</td>\n",
       "      <td>0.305085</td>\n",
       "      <td>0.315245</td>\n",
       "      <td>0</td>\n",
       "    </tr>\n",
       "    <tr>\n",
       "      <th>4</th>\n",
       "      <td>0.493976</td>\n",
       "      <td>0.791096</td>\n",
       "      <td>1.000000</td>\n",
       "      <td>0.860465</td>\n",
       "      <td>1</td>\n",
       "    </tr>\n",
       "  </tbody>\n",
       "</table>\n",
       "</div>"
      ],
      "text/plain": [
       "     Murder   Assault  UrbanPop      Rape  Cluster\n",
       "0  0.746988  0.654110  0.440678  0.359173        0\n",
       "1  0.554217  0.746575  0.271186  0.961240       -1\n",
       "2  0.439759  0.852740  0.813559  0.612403        1\n",
       "3  0.481928  0.496575  0.305085  0.315245        0\n",
       "4  0.493976  0.791096  1.000000  0.860465        1"
      ]
     },
     "execution_count": 21,
     "metadata": {},
     "output_type": "execute_result"
    }
   ],
   "source": [
    "clust= pd.DataFrame(dbscan.labels_, columns = [\"Cluster\"])\n",
    "final_df = pd.concat([df, clust], axis = 1)\n",
    "final_df.head()"
   ]
  },
  {
   "cell_type": "code",
   "execution_count": null,
   "id": "cacc425a",
   "metadata": {},
   "outputs": [],
   "source": []
  }
 ],
 "metadata": {
  "kernelspec": {
   "display_name": "Python 3 (ipykernel)",
   "language": "python",
   "name": "python3"
  },
  "language_info": {
   "codemirror_mode": {
    "name": "ipython",
    "version": 3
   },
   "file_extension": ".py",
   "mimetype": "text/x-python",
   "name": "python",
   "nbconvert_exporter": "python",
   "pygments_lexer": "ipython3",
   "version": "3.10.9"
  }
 },
 "nbformat": 4,
 "nbformat_minor": 5
}
